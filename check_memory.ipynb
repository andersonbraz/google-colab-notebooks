{
  "nbformat": 4,
  "nbformat_minor": 0,
  "metadata": {
    "colab": {
      "provenance": [],
      "name": "check_memory.ipynb",
      "authorship_tag": "ABX9TyOWhqzqNRzPDVzmIPT1nS2p",
      "include_colab_link": true
    },
    "kernelspec": {
      "name": "python3",
      "display_name": "Python 3"
    },
    "language_info": {
      "name": "python"
    }
  },
  "cells": [
    {
      "cell_type": "markdown",
      "metadata": {
        "id": "view-in-github",
        "colab_type": "text"
      },
      "source": [
        "<a href=\"https://colab.research.google.com/github/andersonbraz/google-colab-notebooks/blob/main/check_memory.ipynb\" target=\"_parent\"><img src=\"https://colab.research.google.com/assets/colab-badge.svg\" alt=\"Open In Colab\"/></a>"
      ]
    },
    {
      "cell_type": "code",
      "source": [
        "!pip install psutil"
      ],
      "metadata": {
        "colab": {
          "base_uri": "https://localhost:8080/"
        },
        "id": "RgbAfOhDSQYv",
        "outputId": "b84ca61a-8bfc-41d0-f1af-28af762e41f9"
      },
      "execution_count": null,
      "outputs": [
        {
          "output_type": "stream",
          "name": "stdout",
          "text": [
            "Requirement already satisfied: psutil in /usr/local/lib/python3.10/dist-packages (5.9.5)\n"
          ]
        }
      ]
    },
    {
      "cell_type": "code",
      "execution_count": null,
      "metadata": {
        "colab": {
          "base_uri": "https://localhost:8080/"
        },
        "id": "0qbG6DrWSNsB",
        "outputId": "a9023633-356c-4f9e-8846-bee2bb6f84fc"
      },
      "outputs": [
        {
          "output_type": "stream",
          "name": "stdout",
          "text": [
            "Memória total: 12.67 GB\n",
            "Memória utilizada: 0.99 GB\n"
          ]
        }
      ],
      "source": [
        "import psutil\n",
        "\n",
        "mem_info = psutil.virtual_memory()\n",
        "\n",
        "total_memory = mem_info.total / (1024 ** 3)\n",
        "available_memory = mem_info.available / (1024 ** 3)\n",
        "used_memory = total_memory - available_memory\n",
        "\n",
        "print(f\"Memória total: {total_memory:.2f} GB\")\n",
        "print(f\"Memória utilizada: {used_memory:.2f} GB\")"
      ]
    }
  ]
}