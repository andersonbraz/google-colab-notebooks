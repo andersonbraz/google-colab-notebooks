{
  "nbformat": 4,
  "nbformat_minor": 0,
  "metadata": {
    "colab": {
      "provenance": [],
      "toc_visible": true,
      "authorship_tag": "ABX9TyOK1O7tnqzqARunbiHiO5zN",
      "include_colab_link": true
    },
    "kernelspec": {
      "name": "python3",
      "display_name": "Python 3"
    },
    "language_info": {
      "name": "python"
    }
  },
  "cells": [
    {
      "cell_type": "markdown",
      "metadata": {
        "id": "view-in-github",
        "colab_type": "text"
      },
      "source": [
        "<a href=\"https://colab.research.google.com/github/andersonbraz/google-colab-notebooks/blob/main/generate_bases_faker.ipynb\" target=\"_parent\"><img src=\"https://colab.research.google.com/assets/colab-badge.svg\" alt=\"Open In Colab\"/></a>"
      ]
    },
    {
      "cell_type": "code",
      "execution_count": 1,
      "metadata": {
        "id": "k9y-Wq9XT6O1"
      },
      "outputs": [],
      "source": [
        "# !pip install pyspark\n",
        "# !pip install Faker"
      ]
    },
    {
      "cell_type": "code",
      "source": [
        "from pyspark.sql import SparkSession\n",
        "from pyspark.sql import functions as F\n",
        "from pyspark.sql import types as T\n",
        "from faker import Faker\n",
        "import random"
      ],
      "metadata": {
        "id": "SFoZ4eymVTmZ"
      },
      "execution_count": 2,
      "outputs": []
    },
    {
      "cell_type": "code",
      "source": [
        "fake = Faker(\"pt-BR\")\n",
        "\n",
        "schema = T.StructType([\n",
        "    T.StructField(\"ID\", T.StringType(), True),\n",
        "    T.StructField(\"NAME\", T.StringType(), True),\n",
        "    T.StructField(\"EMAIL\", T.StringType(), True),\n",
        "    T.StructField(\"JOB\", T.StringType(), True),\n",
        "    T.StructField(\"DATE_BIRTH\", T.DateType(), True)\n",
        "])\n",
        "\n",
        "data = []\n",
        "\n",
        "for _ in range(100):\n",
        "\n",
        "    data.append([\n",
        "        fake.md5(),\n",
        "        fake.name(),\n",
        "        fake.email(),\n",
        "        fake.job(),\n",
        "        fake.date_of_birth(minimum_age=18, maximum_age=65)\n",
        "    ])\n",
        "\n",
        "df_base = spark.createDataFrame(data, schema=schema)\n",
        "\n",
        "df_base.coalesce(1).write.mode(\"overwrite\").csv(\"data/base.csv\", header=True)\n",
        "df_base.orderBy(\"NAME\").show(truncate=False, n=100)"
      ],
      "metadata": {
        "colab": {
          "base_uri": "https://localhost:8080/"
        },
        "id": "dBSk5wlOWnDu",
        "outputId": "1b77a643-175c-44e4-ccc1-c6437db21c79"
      },
      "execution_count": 11,
      "outputs": [
        {
          "output_type": "stream",
          "name": "stdout",
          "text": [
            "+--------------------------------+---------------------------+------------------------------------+--------------------------------------------------+----------+\n",
            "|ID                              |NAME                       |EMAIL                               |JOB                                               |DATE_BIRTH|\n",
            "+--------------------------------+---------------------------+------------------------------------+--------------------------------------------------+----------+\n",
            "|819750db6d9133cd4587355203051e9c|Alexia Rodrigues           |dantemelo@example.com               |Investigador de Polícia                           |1980-07-10|\n",
            "|c2589c4a6b21d0521ec589d21e0426a1|Alice Santos               |henrynunes@example.org              |Eletricista                                       |1989-06-01|\n",
            "|90bf0fcf6b1387fcf6056efc99352942|Amanda Sá                  |sousamiguel@example.com             |Dialoguista                                       |1963-11-13|\n",
            "|424ffa4b04914611f30e272fdd0fb801|Ana Beatriz Pastor         |piresana@example.com                |Windsurfer                                        |1987-08-09|\n",
            "|0ae6116c775e4e361d142d42a15f0b3e|Ana Beatriz Pinto          |agatha63@example.com                |Engenheiro acústico                               |1986-07-08|\n",
            "|786e1d800b2cb840bcd77ef4e87eeff5|Ana Sophia Araújo          |zda-rosa@example.org                |Cinematográfo                                     |1990-05-19|\n",
            "|f8c5f2079d5df68600a5a4492a802e5d|Ana Sophia Casa Grande     |lcardoso@example.net                |Judoca                                            |1981-05-17|\n",
            "|f79612b36096caf52025ab4f5d290e2e|Ayla Cavalcanti            |vargaspaulo@example.com             |Profissional de relacionamento com investidores RI|1999-05-02|\n",
            "|872a8f91c423706223f0fe726eaf94f3|Aylla Melo                 |costelaasafe@example.net            |Engenheiro florestal                              |1988-02-12|\n",
            "|be1d2b21d31912aca36466c8d45d7612|Benjamim Rios              |mendoncacalebe@example.com          |Pecuarista                                        |1962-08-15|\n",
            "|6b01ba2b09090cdef4bf301369bdb16b|Brenda Cavalcanti          |portootavio@example.org             |Despachante                                       |1993-02-16|\n",
            "|dc82b672c75928bd34ee7b56c1ee3b3d|Bruno Oliveira             |eloah57@example.org                 |Astrônomo                                         |1992-04-01|\n",
            "|41a5ae67394972c160a63ebd6bb83c42|Caleb Fogaça               |wleao@example.net                   |Controlador de vôo                                |1996-06-03|\n",
            "|8d63dbd25fc2c94238f1bdec474b3413|Cauê Azevedo               |leonardosilveira@example.com        |Motofrete                                         |1995-08-14|\n",
            "|26ee48796eaa0fa8fb91333d896ab267|Cecilia Sampaio            |souzastephany@example.com           |Pastilheiro                                       |1967-10-15|\n",
            "|2e8942e951675d7e3b1072821795fa16|Clara Fernandes            |lorena69@example.org                |Capelão                                           |2000-01-16|\n",
            "|39a5c590dfbecfa65cb9c7dc8d24e9b1|Danilo Ramos               |felipe55@example.org                |Diretor de cinema                                 |1993-12-02|\n",
            "|4e70c89eadb6494f8ec5a4f19ba3aa13|Dante Casa Grande          |mda-rosa@example.net                |Toxicologista                                     |1981-04-11|\n",
            "|17ebaf7509acbcf9b51808a8016a5f11|Davi Miguel Martins        |aylaborges@example.com              |Barman                                            |1978-07-22|\n",
            "|e2e8799a781a4008ceaccbdd2d5d6334|Diego Gonçalves            |marquesbenjamin@example.com         |Contábil                                          |1993-05-12|\n",
            "|62fa437fc72d29e44e1763c2fde0ebb0|Dr. Anthony Porto          |mcampos@example.org                 |Leiteiro                                          |2005-11-17|\n",
            "|f7c5223a88993cb8fc8b76582195f71b|Dra. Amanda Almeida        |maria-fernandarezende@example.org   |Agente de defesa sanitária animal                 |1971-08-21|\n",
            "|0d9af0ad55c878a1abfc70b554b97d2c|Dra. Bárbara Cassiano      |juliana82@example.org               |Ambientalista                                     |1979-12-01|\n",
            "|8aecc5cfa44b7dae4ca7c0c493c30acc|Dra. Mariana Gomes         |fcorreia@example.com                |Sargento                                          |2003-08-15|\n",
            "|88f83da9f20a63bb67c0e28074502523|Dra. Sabrina das Neves     |fernandesmaria-sophia@example.net   |Broker/Corretor da bolsa de valores               |1962-07-21|\n",
            "|52ef5a397fd01c3708b5168ba46708fa|Enrico Rodrigues           |jsales@example.net                  |Caldeireiro                                       |1984-03-13|\n",
            "|5cad24ea8d295c447aab9cd0ddb31b53|Enzo Costela               |melina75@example.org                |Consultor de moda                                 |1992-12-11|\n",
            "|c8df20b18b54ca75f9da0c1778e0b029|Felipe Pacheco             |maria-helenarezende@example.org     |Implantodontista                                  |1958-11-28|\n",
            "|9bf4a984a69525cf0e1a3a8683b68be9|Fernanda Abreu             |xrodrigues@example.net              |Operador de telemarketing                         |1993-02-17|\n",
            "|b9c07e8ecdcb05035a2d294dfbf1b6c7|Fernanda Barbosa           |da-cruzcaroline@example.org         |Papiloscopista                                    |1978-07-18|\n",
            "|db1ffc6bb1d968a274d61f3da11bb65a|Fernando Santos            |brayan91@example.com                |Artista de circo                                  |1986-05-09|\n",
            "|30dda0efaba2a2f27981bba81ba040aa|Fernando Teixeira          |erickda-costa@example.com           |Dentista                                          |2001-05-09|\n",
            "|d53977a46bc65ea93d90c3935a22593d|Gabriel Ribeiro            |ferreiraana-liz@example.com         |Fresador                                          |1990-09-20|\n",
            "|5f02d6853c568973a669bb362a34a0d5|Gabriela Pires             |gustavo-henrique23@example.com      |Biólogo                                           |1974-10-08|\n",
            "|54b0930e781adc4ee0b13a5f60039eea|Gael Henrique Câmara       |franciscoleao@example.net           |Engenheiro cartográfico                           |1996-02-28|\n",
            "|562ebe4cf79e228e7380eb61a3d1151f|Guilherme Teixeira         |yurileao@example.com                |Empregado doméstico                               |1980-10-24|\n",
            "|0c329b75ad5daad13c2d3e713e55a30e|Hadassa Rezende            |alvessarah@example.org              |Comerciante                                       |2002-07-07|\n",
            "|447eaaeb35af13e8d2f04f83dc171b97|Heloísa Cardoso            |teixeiraana-vitoria@example.org     |Engenheiro de horticultura                        |1992-03-07|\n",
            "|6758e6521d7d309dc8f369af1fe0ad52|Henrique Rios              |valentimalbuquerque@example.com     |DJ                                                |2002-10-31|\n",
            "|e24e09849b96ca047bfd9013966905bf|Ian Araújo                 |levifarias@example.com              |Gandula                                           |1980-02-15|\n",
            "|8f44390ac2e0f70d29f90ac95b20dd62|Isis Aragão                |hpacheco@example.org                |Garçom                                            |1988-10-07|\n",
            "|e158ee99fa042edc50f328a497b1af93|Joana Monteiro             |pvasconcelos@example.org            |Guitarrista                                       |1997-12-10|\n",
            "|70260fc663981d48bad341c03bf4386b|Joaquim Brito              |monteirobernardo@example.net        |Lutador de taekwondo                              |1966-03-10|\n",
            "|5efdbf84ab954874ab52d28a96e28ef8|João Gabriel Ramos         |lopeserick@example.org              |Seringueiro                                       |1959-02-05|\n",
            "|52af535559cf4c96850a76dbffe26ce7|Julia Cavalcante           |luiz-miguel71@example.com           |Contramestre em transporte marítimo               |1973-02-09|\n",
            "|007dba5e2afd2ec5a784f71c45e3602e|Júlia Costa                |mariane94@example.net               |Salgadeira                                        |1995-07-16|\n",
            "|040875b2c34fc736289504ac5a877c5c|Kamilly Souza              |vinicius92@example.net              |Marechal                                          |1964-04-18|\n",
            "|0ad83aec2c138bd0ef2f8e009aec744c|Kevin Pacheco              |camilacorreia@example.net           |Auxiliar de serviços gerais                       |1998-04-28|\n",
            "|3e24fb8f1d659f67530c6b4174acd539|Larissa Vargas             |portoanthony-gabriel@example.com    |Gastrônomo                                        |1995-07-01|\n",
            "|c8130cac8e7baaf53bb2d8e5d8e9a72a|Laís Lopes                 |silveiraenzo-gabriel@example.net    |Advogado                                          |1985-07-13|\n",
            "|75c395d0588f840cf5a4f42c1d35c4d4|Leonardo Silva             |bella20@example.com                 |Ciclista                                          |1984-06-05|\n",
            "|c21bc35659141f50e692961154582c76|Levi Pinto                 |eloa66@example.org                  |Operador de telemarketing                         |1994-09-20|\n",
            "|a198aeb825fd2d136b36666a2f5c8e12|Lucas Machado              |qsilveira@example.net               |Engenheiro naval                                  |2000-10-17|\n",
            "|d00352618896dd9618420c54397f4667|Lucas da Rosa              |augusto47@example.net               |Engenheiro de alimentos                           |1998-11-18|\n",
            "|a9486978341dcc40125df0690223a115|Luiz Miguel Rezende        |fernanda19@example.com              |Locutor                                           |1973-09-03|\n",
            "|dcbf619224e057cf09a2e32a9876c10f|Marcelo Azevedo            |costaolivia@example.org             |Navegador                                         |1987-06-07|\n",
            "|cac6c79371b5143be4af716025d47ebc|Maria Eduarda Santos       |augustoalves@example.net            |Hematologista                                     |1988-02-13|\n",
            "|ddfd19d63422327346d1f93312a642fe|Maria Laura Ferreira       |ryanmarques@example.net             |Agrônomo                                          |1964-02-12|\n",
            "|f23c1a86a9f2185ba569efaa9916cc90|Maria Laura Nunes          |imarques@example.com                |Jóquei                                            |1999-11-28|\n",
            "|3c7e4283de548f09fb547caef767b94c|Maria Luísa da Mota        |vpereira@example.net                |Engenheiro de supply chain ou logística           |1982-08-31|\n",
            "|a15e78046905dabc1bffa76699d117d6|Maysa da Paz               |barbosajoao-lucas@example.org       |Fonoaudiólogo                                     |1998-03-09|\n",
            "|ab25223cd7b1653c217098025b9bfc91|Melissa Nunes              |mendoncaluna@example.net            |Médico legista                                    |1967-05-15|\n",
            "|12c7fb85274249221fc20fa517e61876|Mirella Montenegro         |juliana93@example.org               |Podólogo                                          |1997-05-17|\n",
            "|56661de2612d55d40c4a29cd861a4c85|Nicolas Alves              |ravi-lucca73@example.com            |Soldador                                          |2004-06-16|\n",
            "|cf581ff5e29cce5361d50553cd1292f6|Nicolas Peixoto            |igor55@example.net                  |Frentista                                         |1982-02-24|\n",
            "|a46eecc36415c698bb989f1d3950982d|Nina Cirino                |nsilva@example.net                  |Juiz de futebol                                   |1988-01-29|\n",
            "|7bdfd2a0e794cd1d9446a0a9a9411aa8|Nina Pires                 |beatriz22@example.net               |Webdesigner                                       |1986-06-09|\n",
            "|8ed1160afaae126cba4406a3104a187a|Nina da Cunha              |bpeixoto@example.org                |Ferroviário                                       |1988-07-29|\n",
            "|5cfd8ab4b44fec8eeb577f25434ccc49|Olívia Fogaça              |kfernandes@example.com              |Lamboteiro                                        |1960-07-03|\n",
            "|3ac816c8147222661fdb278817bfee55|Paulo Moraes               |pedrofernandes@example.org          |Químico farmacêutico                              |1994-08-23|\n",
            "|0dca6266cec8c6b507e9b9982e204751|Pedro Lima                 |mourabianca@example.net             |Psicopedagogo                                     |1993-12-19|\n",
            "|17bf0307807d75eb58b56c5909be80b8|Pedro Lucas Lima           |eda-conceicao@example.net           |Capoeirista                                       |2002-03-13|\n",
            "|858ef9052cbbf41d560bb158d0fdda9f|Pietra Abreu               |wmonteiro@example.org               |Administrador de banco de dados DBA               |1975-06-08|\n",
            "|012fd5373a336b95c74673be543bb6a1|Pietro Moura               |nataliacaldeira@example.net         |Gourmet                                           |1998-02-16|\n",
            "|34ff50f6f48432a76d09abefc27596f4|Raul Brito                 |maria-fernanda93@example.org        |Apresentador                                      |1977-07-01|\n",
            "|897a02f2614c783fe89977c87885bd27|Raul Fogaça                |garciavitor@example.org             |Moldureiro                                        |1967-09-25|\n",
            "|edee2f4f352a136e8a242ec1e3a6d031|Ravi Rezende               |zoemonteiro@example.org             |Segurança particular                              |2001-07-20|\n",
            "|3206b3d48d0ed95b6869992d917c026a|Ravi Sampaio               |borgesbryan@example.org             |Brigadeiro                                        |1968-09-09|\n",
            "|2a72e122c1e0893e573635e73247ee68|Ravy Almeida               |xrios@example.com                   |Traumatologista                                   |1983-07-14|\n",
            "|7fc050ea5d1de91d112ae22d2cf502c9|Ravy Brito                 |zleao@example.com                   |Enólogo                                           |1998-10-13|\n",
            "|614a2ef5101b2c5b6fd6597bfe522aeb|Rebeca Vieira              |lopesmarcos-vinicius@example.org    |Administrador de banco de dados DBA               |1964-02-28|\n",
            "|a05644407fbea73d6c333c7bf2179b5e|Rebeca da Mata             |albuquerquehenry-gabriel@example.net|Bombeiro                                          |1986-01-29|\n",
            "|0f7cd9f20c3325132a7d161a8a484c51|Sophie Moura               |barbosacaio@example.net             |Técnico em agropecuária                           |2000-12-24|\n",
            "|440c5a94c2be7bee191efe147e693212|Sr. Augusto Novaes         |diogo40@example.com                 |Profissional de relacionamento com investidores RI|1979-10-28|\n",
            "|52693fb8ccf136988a1b045ccd830717|Sr. Bruno Jesus            |maria-isisramos@example.org         |Profissional de relações internacionais           |1982-05-14|\n",
            "|3f61cc6aafbf69605afe9111950a69ef|Sr. Luiz Otávio Cavalcanti |helenacastro@example.net            |Continuista                                       |1977-12-09|\n",
            "|a0ffa263e4ecd1d8f53da1c383409574|Sra. Emanuella da Conceição|enzo-gabriel15@example.net          |Operador de telemarketing                         |2006-02-18|\n",
            "|dae57783a9bb7d0dcca1a03f2a5716be|Sra. Olivia Martins        |costeladante@example.org            |Perfumista                                        |1985-01-27|\n",
            "|caa962a7258d0ab090bb9d4a7318df9d|Sra. Sophie Moreira        |luan86@example.org                  |Imunologista                                      |2004-08-08|\n",
            "|7a822d8fcdd945399092657c1131e568|Sra. Yasmin Caldeira       |daniela40@example.org               |Deputado                                          |1967-01-31|\n",
            "|4debd9b0f664de1086695233fe581f35|Thales Cirino              |joao-miguelmartins@example.net      |Encanador                                         |2000-03-05|\n",
            "|93f159191be7c6c4b2e4df9d7f294195|Thales Câmara              |yanpereira@example.net              |Headhunter                                        |1978-09-16|\n",
            "|ac10f1c707c8df078bff5f443d994061|Theo Casa Grande           |levijesus@example.com               |Odontologista legal                               |1965-08-13|\n",
            "|ca87396820ffe83a09fe349a65aebca1|Theodoro Pacheco           |renansiqueira@example.com           |Cartunista                                        |2002-07-12|\n",
            "|45429b31bc28ad23b4993572a6ead28d|Thiago das Neves           |stellada-costa@example.org          |Ginasta rítmica                                   |1966-02-02|\n",
            "|8e1364279d47e5b70d6bb4d60ed8303b|Valentina Costa            |rafaela70@example.com               |Corretor de seguros                               |1976-12-30|\n",
            "|93075d68e3ff08347171bcdbbf8c10df|Vitor Gabriel Teixeira     |silveiramaria-alice@example.com     |Viveirista                                        |1971-07-10|\n",
            "|c7d119cb72bdcdeb8f38e7b71f8fe4c9|Vitória da Mota            |cassianojoao-gabriel@example.net    |Quitandeiro                                       |1962-01-19|\n",
            "|0ca3fd7ec3a5a386edaf71f6ec5ba75e|Yasmin Correia             |isabellamoraes@example.com          |Maquinista                                        |1973-12-09|\n",
            "|5661f62049203d956169eb3a088e489f|Ísis Nascimento            |pcardoso@example.org                |Juiz ou árbitro de futebol                        |1970-11-09|\n",
            "+--------------------------------+---------------------------+------------------------------------+--------------------------------------------------+----------+\n",
            "\n"
          ]
        }
      ]
    },
    {
      "cell_type": "code",
      "source": [
        "spark = SparkSession.builder \\\n",
        ".master(\"local\") \\\n",
        ".appName(\"generate_bases_faker\") \\\n",
        ".getOrCreate()\n",
        "\n",
        "print(\"Spark Version:\", spark.version)"
      ],
      "metadata": {
        "colab": {
          "base_uri": "https://localhost:8080/"
        },
        "id": "D9dcXKktVsJR",
        "outputId": "dc67c409-297f-412f-95c0-6ffac321a3af"
      },
      "execution_count": 4,
      "outputs": [
        {
          "output_type": "stream",
          "name": "stdout",
          "text": [
            "Spark Version: 3.5.3\n"
          ]
        }
      ]
    }
  ]
}