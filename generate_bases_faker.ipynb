{
  "nbformat": 4,
  "nbformat_minor": 0,
  "metadata": {
    "colab": {
      "provenance": [],
      "toc_visible": true,
      "authorship_tag": "ABX9TyMUDTvf+toWqPHT+9rUJBur",
      "include_colab_link": true
    },
    "kernelspec": {
      "name": "python3",
      "display_name": "Python 3"
    },
    "language_info": {
      "name": "python"
    }
  },
  "cells": [
    {
      "cell_type": "markdown",
      "metadata": {
        "id": "view-in-github",
        "colab_type": "text"
      },
      "source": [
        "<a href=\"https://colab.research.google.com/github/andersonbraz/google-colab-notebooks/blob/main/generate_bases_faker.ipynb\" target=\"_parent\"><img src=\"https://colab.research.google.com/assets/colab-badge.svg\" alt=\"Open In Colab\"/></a>"
      ]
    },
    {
      "cell_type": "code",
      "execution_count": 1,
      "metadata": {
        "id": "k9y-Wq9XT6O1"
      },
      "outputs": [],
      "source": [
        "# !pip install pyspark\n",
        "# !pip install Faker"
      ]
    },
    {
      "cell_type": "code",
      "source": [
        "from pyspark.sql import SparkSession\n",
        "from pyspark.sql import functions as F\n",
        "from pyspark.sql import types as T\n",
        "from faker import Faker\n",
        "import random"
      ],
      "metadata": {
        "id": "SFoZ4eymVTmZ"
      },
      "execution_count": 2,
      "outputs": []
    },
    {
      "cell_type": "code",
      "source": [
        "from IPython.display import display, HTML\n",
        "display(HTML(\"<style>.container { width:100% !important; }</style>\"))"
      ],
      "metadata": {
        "colab": {
          "base_uri": "https://localhost:8080/",
          "height": 17
        },
        "id": "Zqkv1AK5erD6",
        "outputId": "acea9147-e712-405a-cf04-5a3b09e11ef4"
      },
      "execution_count": 3,
      "outputs": [
        {
          "output_type": "display_data",
          "data": {
            "text/plain": [
              "<IPython.core.display.HTML object>"
            ],
            "text/html": [
              "<style>.container { width:100% !important; }</style>"
            ]
          },
          "metadata": {}
        }
      ]
    },
    {
      "cell_type": "code",
      "source": [
        "spark = SparkSession.builder \\\n",
        "    .appName(\"MySparkSession\") \\\n",
        "    .getOrCreate()\n",
        "\n",
        "print(\"Spark Version:\", spark.version)"
      ],
      "metadata": {
        "colab": {
          "base_uri": "https://localhost:8080/"
        },
        "id": "FWGNUHV5e042",
        "outputId": "7b8af225-5f29-4118-8bdd-2c5b4359d18b"
      },
      "execution_count": 4,
      "outputs": [
        {
          "output_type": "stream",
          "name": "stdout",
          "text": [
            "Spark Version: 3.5.3\n"
          ]
        }
      ]
    },
    {
      "cell_type": "code",
      "source": [
        "fake = Faker(\"pt-BR\")\n",
        "\n",
        "schema = T.StructType([\n",
        "    T.StructField(\"ID\", T.StringType(), True),\n",
        "    T.StructField(\"NAME\", T.StringType(), True),\n",
        "    T.StructField(\"EMAIL\", T.StringType(), True),\n",
        "    T.StructField(\"JOB\", T.StringType(), True),\n",
        "    T.StructField(\"DATE_BIRTH\", T.DateType(), True)\n",
        "])\n",
        "\n",
        "data = []\n",
        "\n",
        "for _ in range(10):\n",
        "\n",
        "    data.append([\n",
        "        fake.md5(),\n",
        "        fake.name(),\n",
        "        fake.email(),\n",
        "        fake.job(),\n",
        "        fake.date_of_birth(minimum_age=18, maximum_age=65)\n",
        "    ])\n",
        "\n",
        "df_base = spark.createDataFrame(data, schema=schema)\n",
        "\n",
        "df_base.coalesce(1).write.mode(\"overwrite\").csv(\"data/base.csv\", header=True)\n",
        "df_base.orderBy(\"NAME\").show(truncate=False, n=100)"
      ],
      "metadata": {
        "colab": {
          "base_uri": "https://localhost:8080/"
        },
        "id": "dBSk5wlOWnDu",
        "outputId": "f5cac8c5-f247-4eac-a92a-c5fa90c4eaa1"
      },
      "execution_count": 5,
      "outputs": [
        {
          "output_type": "stream",
          "name": "stdout",
          "text": [
            "+--------------------------------+-------------------------+------------------------------+------------------------------+----------+\n",
            "|ID                              |NAME                     |EMAIL                         |JOB                           |DATE_BIRTH|\n",
            "+--------------------------------+-------------------------+------------------------------+------------------------------+----------+\n",
            "|a580fab584660a31a7f4e2c8ae8828a5|Augusto Lopes            |maitepimenta@example.org      |Ecólogo                       |1983-09-26|\n",
            "|511029e6e3c7c22c7915ad637cfea62f|Carolina Fogaça          |anna-liz38@example.com        |Portuário                     |1964-07-11|\n",
            "|8d550dc36671ace578300449f7597305|Dr. Gael Henrique Moreira|camarayan@example.net         |Profissional de logística     |1989-04-24|\n",
            "|7ee8658fdfb00373b803ba20dd8cbb0b|Dr. Kevin Novaes         |piresrafaela@example.com      |Cobrador de ônibus            |1988-08-12|\n",
            "|4d7f1dab3a8cf61e9ec29f2348d31037|Eduarda Pires            |hda-cruz@example.com          |Sargento                      |1970-12-28|\n",
            "|1de3a623a43f50c5535c638d64d04fd5|Heitor Câmara            |zcarvalho@example.org         |Instalador de linha telefônica|1959-07-31|\n",
            "|bdf67a132e4b15ddc9874004513757e9|João Gabriel Moraes      |mendoncaerick@example.com     |Gestor de qualidade           |1974-04-13|\n",
            "|87df146f767b0d17e093e3f19e59b539|Lorena Vargas            |fogacaelisa@example.com       |Administrador                 |2002-09-28|\n",
            "|6295914d6d402f64c7c36264340f22da|Melina Freitas           |vasconcelosrafaela@example.com|Jogador de golfe              |1960-10-31|\n",
            "|632a8b3a89cbe659b70dcc332fc76ca0|Sarah das Neves          |hcirino@example.com           |Ginasta rítmica               |2002-04-15|\n",
            "+--------------------------------+-------------------------+------------------------------+------------------------------+----------+\n",
            "\n"
          ]
        }
      ]
    }
  ]
}